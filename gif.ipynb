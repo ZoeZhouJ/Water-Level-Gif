{
 "cells": [
  {
   "cell_type": "markdown",
   "id": "5426c926-381b-4718-b485-4cc286f68bb0",
   "metadata": {},
   "source": [
    "## Creating a GIF of water level change at Lake Cachuma"
   ]
  },
  {
   "cell_type": "markdown",
   "id": "15fc49da-1bd9-4abf-b9f1-b3bf477655b6",
   "metadata": {
    "tags": []
   },
   "source": [
    "### About"
   ]
  },
  {
   "cell_type": "markdown",
   "id": "8b059746-4c4e-492f-ba45-dcf8d4cc921a",
   "metadata": {},
   "source": [
    "Lake Cachuma was once a primary water source for Santa Barbara County, but the California drought has made it an unreliable resevoir. In 2017, the reservoir was part of the 2.13% of California that was considered to be in an \"exceptional drought\". Given that this resevoir is the majority water source for over 200,000 Santa Barbara residents, the water levels in the Cachuma have a major impact on its residents. While the drought is not over, heavy rains in 2022 - 2023 helped Lake Cachuma reach it's capacity for the first time in 11 years. \n",
    "\n",
    "\n",
    "![](images/lake_cachuma_levels.jpeg)\n"
   ]
  },
  {
   "cell_type": "markdown",
   "id": "f6b6d61d-4a37-4b9f-87bf-77d3e9c8a49b",
   "metadata": {
    "tags": []
   },
   "source": [
    "### Purpose"
   ]
  },
  {
   "cell_type": "markdown",
   "id": "35337c47-061e-45e7-a1bb-00019b7e2536",
   "metadata": {},
   "source": [
    "We will use satelittle imagery to see if we can notice changes in water levels when the reservoir was at an all time low versus the following years. We will be specifically looking at the water levels in Harvey Bay. In order to show the water level change in this 6 year time span, we will create a gif. \n",
    "\n",
    "![](images/lake_cachuma_map.png)"
   ]
  },
  {
   "cell_type": "markdown",
   "id": "6301740b-c44f-460c-80f2-852231205261",
   "metadata": {
    "tags": []
   },
   "source": [
    "### About the data:"
   ]
  },
  {
   "cell_type": "markdown",
   "id": "19ad7b9b-e06e-4178-87a5-915e41ebd5c9",
   "metadata": {},
   "source": [
    "To carry out this task, we will use the Microsoft Planetary Computer Catalog. We will be using NAIP imagery from the catalog in the years 2016 to 2022.  "
   ]
  },
  {
   "cell_type": "markdown",
   "id": "3925598a-60b9-4abc-9817-d58f40504859",
   "metadata": {
    "tags": []
   },
   "source": [
    "#### Load libraries and data"
   ]
  },
  {
   "cell_type": "markdown",
   "id": "7644a8e8-65f4-4eea-87d3-02738cdb826e",
   "metadata": {},
   "source": [
    "First, lets load our libraries. To create the GIF we’ll be using the [geogif](https://geogif.readthedocs.io/en/latest/) library, which makes it simple to create gifs from `xarray.DataArrays`."
   ]
  },
  {
   "cell_type": "code",
   "execution_count": 1,
   "id": "1aaa57c0-eb66-49fd-94cc-8c1e976f1902",
   "metadata": {
    "tags": []
   },
   "outputs": [],
   "source": [
    "import pandas as pd\n",
    "import numpy as np\n",
    "import matplotlib.pyplot as plt\n",
    "import geopandas as gpd\n",
    "import rioxarray as rioxr\n",
    "from pystac_client import Client  # To access STAC catalogs\n",
    "import planetary_computer  # To sign items from the MPC STAC catalog \n",
    "from IPython.display import Image  # To nicely display images\n",
    "from geogif import gif\n",
    "from shapely.geometry import box\n",
    "import xarray as xr\n",
    "import os\n"
   ]
  },
  {
   "cell_type": "markdown",
   "id": "cf7e7a57-226c-41cf-9bfe-d96f7ea2688e",
   "metadata": {},
   "source": [
    "Next we will access our data via the MPC catalog. Access the naip collection and store the collection in `naip_collection`."
   ]
  },
  {
   "cell_type": "code",
   "execution_count": null,
   "id": "56670268-e1cf-4b98-9b24-3d06f6d1daaf",
   "metadata": {
    "tags": []
   },
   "outputs": [],
   "source": [
    "# Access MPC catalog\n",
    "catalog = Client.open(\n",
    "    \"https://planetarycomputer.microsoft.com/api/stac/v1\",\n",
    "    modifier=planetary_computer.sign_inplace,\n",
    ")\n",
    "\n",
    "\n",
    "catalog.get_collections()\n",
    "collections = ...  # Turn generator into list\n",
    "\n",
    "# Print the number of collections\n",
    "print('Number of collections:', len(collections))\n",
    "\n",
    "# Pull out the NAIP collection\n",
    "naip_collection = ...\n",
    "naip_collection"
   ]
  },
  {
   "cell_type": "markdown",
   "id": "bf8c274a-1bd9-4bc7-944f-ecd04d1494aa",
   "metadata": {},
   "source": [
    "Now that we have our data, we need to specify the temporal and spatial information we are interested in. Specify the range of interest in the `time_range` variable. We are intersted at the time when Lake Cachuma was at its lowest (01/01/2016) until the heavy rain storms (01/01/2024). "
   ]
  },
  {
   "cell_type": "code",
   "execution_count": null,
   "id": "507cb3d1-dce3-4730-8134-475c84a422e8",
   "metadata": {
    "tags": []
   },
   "outputs": [],
   "source": [
    "# Temporal range of interest during drought\n",
    "time_range = ..."
   ]
  },
  {
   "cell_type": "markdown",
   "id": "838e5327-3d42-4051-a88e-6835d5fa395f",
   "metadata": {},
   "source": [
    "The following bounding box coordinates are around Harvey's Cove at lake cachuma."
   ]
  },
  {
   "cell_type": "code",
   "execution_count": 3,
   "id": "e1c5f237-821b-408c-a36a-03cf790d8dc3",
   "metadata": {
    "tags": []
   },
   "outputs": [],
   "source": [
    "bbox = [-119.96541203059391,34.57264927127669 ,-119.96035687994136,  34.57849481511495]\n"
   ]
  },
  {
   "cell_type": "markdown",
   "id": "f4d4135b-e08b-43c8-ad8c-0c0bffdfeab7",
   "metadata": {},
   "source": [
    "Now that we specificed our bounding box and time range, lets do a catalog search to get our data. Be sure to include your `bbox` and `time_range` in your search. After completing your search, retrieve your search items and assign the first item in your catalog search to the variable `item`. "
   ]
  },
  {
   "cell_type": "code",
   "execution_count": null,
   "id": "9e848419-8bd1-4bfc-bad6-e961ebca5b1b",
   "metadata": {
    "tags": []
   },
   "outputs": [],
   "source": [
    "# Catalog search\n",
    "search = ...\n",
    "\n",
    "# Get items from search\n",
    "items = ...\n",
    "\n",
    "\n",
    "# Determine number of items in search\n",
    "print(f'There are {len(items)} items in the search.')"
   ]
  },
  {
   "cell_type": "code",
   "execution_count": null,
   "id": "306ef74d-e99b-431a-ae91-f6f3035c843a",
   "metadata": {
    "tags": []
   },
   "outputs": [],
   "source": [
    "# Get first item in the catalog search\n",
    "item = ...\n",
    "type(item)"
   ]
  },
  {
   "cell_type": "markdown",
   "id": "dd001ae1-2441-4266-9629-ea3232e48596",
   "metadata": {},
   "source": [
    "#### Let's look at a single raster. \n",
    "\n",
    "The NAIP data is available at the item’s 'image' asset. Use `rioxr.open_rasterio` to open the image asset. We want to open `item.assets['image'].href` to get the xarray. \n"
   ]
  },
  {
   "cell_type": "code",
   "execution_count": null,
   "id": "0ad79138-a19f-40ba-9cc2-dd68c2ff7fd1",
   "metadata": {
    "tags": []
   },
   "outputs": [],
   "source": [
    "lake_levels = ...\n",
    "lake_levels\n"
   ]
  },
  {
   "cell_type": "markdown",
   "id": "c7bd34e6-93bc-4a25-9998-b9c6749f805d",
   "metadata": {},
   "source": [
    "This rater is way bigger than our area of interest. To verify this and then clip the raster, let’s make a gpd.GeoDataFrame from the bbox coordinates:"
   ]
  },
  {
   "cell_type": "markdown",
   "id": "3b3308f2-efda-4840-8158-566ff80fe1fd",
   "metadata": {},
   "source": [
    "Run the cell below. What is the `box()` function doing? "
   ]
  },
  {
   "cell_type": "code",
   "execution_count": null,
   "id": "cc9b1f37-5050-462a-901f-54d1eb49f2eb",
   "metadata": {
    "tags": []
   },
   "outputs": [],
   "source": [
    "# Bounding box as geodataframe\n",
    "box_df = gpd.GeoDataFrame(geometry=[box(*bbox)],\n",
    "                 crs='epsg:4326') "
   ]
  },
  {
   "cell_type": "code",
   "execution_count": null,
   "id": "268cbfab-db17-4794-8d66-e55d3a475eec",
   "metadata": {
    "tags": []
   },
   "outputs": [],
   "source": [
    "# Clip raster to bounding box, ensuring the crs' are the same\n",
    "lake_levels = lake_levels.rio.clip_box(*box_df.to_crs(lake_levels.rio.crs).total_bounds)"
   ]
  },
  {
   "cell_type": "markdown",
   "id": "f0a65b65-b80b-4537-a1d5-0f7166396550",
   "metadata": {},
   "source": [
    "NAIP data has four bands, Red, Green, Blue, and Near-Infrared. To make it easier to plot RGB images, select only the first three bands, and then plot the selected data. "
   ]
  },
  {
   "cell_type": "code",
   "execution_count": null,
   "id": "47743e3b-0d61-4752-8213-44d7edb5f6c9",
   "metadata": {
    "tags": []
   },
   "outputs": [],
   "source": [
    "# Select the the first three bands of the NAIP data\n",
    "lake_levels = ...\n",
    "\n",
    "# Plot the first three bands\n",
    "..."
   ]
  },
  {
   "cell_type": "markdown",
   "id": "8be66403-fd83-457b-9ae5-620c8e101241",
   "metadata": {
    "tags": []
   },
   "source": [
    "#### Stack Rasters"
   ]
  },
  {
   "cell_type": "markdown",
   "id": "e124e4b2-dfcb-4568-9ef2-dd8ab4bbf5f8",
   "metadata": {},
   "source": [
    "Our goal is to use the gif function to create a gif with the four NAIP images over Lake Cachuma."
   ]
  },
  {
   "cell_type": "markdown",
   "id": "18b2796c-a0d5-415e-9500-b4d503d588ea",
   "metadata": {},
   "source": [
    "The gif documentation indicates that to do so we will need to put our images/rasters in a single `xarray.DataArray` with dimensions (time, band, y, x). Check your raster to see what the dimmensions are. Do they match the dimensions that the gif function requires? "
   ]
  },
  {
   "cell_type": "code",
   "execution_count": null,
   "id": "e43829ba-6334-46d6-b22f-d2787b6501a6",
   "metadata": {
    "tags": []
   },
   "outputs": [],
   "source": [
    "# Check raster dimensions\n",
    "lake_levels.dims\n",
    "\n",
    "# Check the shape of the raster\n",
    "lake_levels.shape"
   ]
  },
  {
   "cell_type": "markdown",
   "id": "38716332-0153-4cfe-8d78-d6e1998bde79",
   "metadata": {},
   "source": [
    "To create a single xarray.DataArray with a time dimensions we will stack the four rasters we obtained in our search. We use a for loop to repeat the previous steps for each item in the search (access the item’s image asset, clip, and select bands) and store each processed raster in a list `rasters`."
   ]
  },
  {
   "cell_type": "code",
   "execution_count": null,
   "id": "195d24c4-60fb-48d0-8fad-7fb474e4610b",
   "metadata": {
    "tags": []
   },
   "outputs": [],
   "source": [
    "rasters = []\n",
    "for item in items: \n",
    "    # Access the image asset\n",
    "    ... \n",
    "    # Clip the raster\n",
    "    ...\n",
    "    # Select the first three bands\n",
    "    ...\n",
    "    rasters.append(lake_levels)"
   ]
  },
  {
   "cell_type": "markdown",
   "id": "c30d737b-1d2c-4646-8bb8-4899ba64aa5a",
   "metadata": {},
   "source": [
    "Next lets use the `xarray.concat()` function to concatenate these rasters along a new dimensions we will call `time`. "
   ]
  },
  {
   "cell_type": "code",
   "execution_count": null,
   "id": "7bf14b9c-a9f8-48c7-8b11-33aaa430c099",
   "metadata": {
    "tags": []
   },
   "outputs": [],
   "source": [
    "# Concatenate rasters into single xarray.DataArray\n",
    "stack = xr.concat(rasters, dim='time')\n",
    "stack"
   ]
  },
  {
   "cell_type": "markdown",
   "id": "36d27750-4f4d-4a2d-9683-7768ff22e3a0",
   "metadata": {},
   "source": [
    "Notice our new dimension `time` does not have any coordinates associated to it. To add coordinates to this dimensions we use the `assign_coords()`  method for `xarray.DataArray`."
   ]
  },
  {
   "cell_type": "markdown",
   "id": "a8201b01-47e8-406f-a3b9-8801b628d608",
   "metadata": {},
   "source": [
    "It would be reasonable to use the year of collection of each raster (as a timestamp) as its coordinate on the time dimension. We can see this year in the item’s properties:"
   ]
  },
  {
   "cell_type": "code",
   "execution_count": null,
   "id": "2059de40-0573-4aec-abc8-84ce034e5f41",
   "metadata": {
    "tags": []
   },
   "outputs": [],
   "source": [
    "# year of collection of an item \n",
    "item = items[0]\n",
    "item.properties['naip:year']"
   ]
  },
  {
   "cell_type": "code",
   "execution_count": null,
   "id": "1a284a09-8d32-440f-a1c2-0f739d849930",
   "metadata": {
    "tags": []
   },
   "outputs": [],
   "source": [
    "# convert strings to datetime\n",
    "..."
   ]
  },
  {
   "cell_type": "markdown",
   "id": "1918a146-4f94-48a4-96f1-e705658e807a",
   "metadata": {
    "tags": []
   },
   "source": [
    "To get this timestamp for each year we can create a list using list comprehension:\n",
    "\n",
    "**List comprehension format reminder:** `[expression for item in items if condition]`"
   ]
  },
  {
   "cell_type": "code",
   "execution_count": null,
   "id": "80f76515-8d57-4a51-8189-9231bb14bf25",
   "metadata": {
    "tags": []
   },
   "outputs": [],
   "source": [
    "times = ...\n",
    "times"
   ]
  },
  {
   "cell_type": "markdown",
   "id": "c16ab2fa-87af-49f8-9ced-1579c25d8fd2",
   "metadata": {},
   "source": [
    "And finally we assign these times as the coordinates (using `assign_coords()`) and sort by the vlaues of time dimension:\n",
    "\n"
   ]
  },
  {
   "cell_type": "code",
   "execution_count": null,
   "id": "a0ba5469-5424-4a26-bd22-9f4a48bb6015",
   "metadata": {
    "tags": []
   },
   "outputs": [],
   "source": [
    "stack = stack.assign_coords(time=times).sortby(\"time\")\n",
    "stack"
   ]
  },
  {
   "cell_type": "markdown",
   "id": "34bf665c-af89-48e7-a73e-9c4a4729b846",
   "metadata": {},
   "source": [
    "#### Now its  time to make a GIF! "
   ]
  },
  {
   "cell_type": "markdown",
   "id": "ff176a46-0627-4695-872f-8ec3e8c260fd",
   "metadata": {},
   "source": [
    "Use the gif function to create a gif of our stacked raster. Look at the documentation for `gif()`. What does the `fps` argument stand for? \n"
   ]
  },
  {
   "cell_type": "code",
   "execution_count": null,
   "id": "9a6774bc-f192-4753-bdd9-629c07a40ee0",
   "metadata": {},
   "outputs": [],
   "source": [
    "# Create gif\n",
    "# adding to=\"lake_cachuma.gif\" will save GIF\n",
    "\n"
   ]
  },
  {
   "cell_type": "markdown",
   "id": "49b05ad1-72d1-48b2-9164-9ae2e76445ef",
   "metadata": {},
   "source": [
    "### References"
   ]
  },
  {
   "cell_type": "markdown",
   "id": "56610a56-e944-4ff9-8b1b-575f88ed199a",
   "metadata": {
    "tags": []
   },
   "source": [
    "Santa Maria Times. \"Cachuma Lake Among the Last of State's Reservoirs in Exceptional Drought.\" Santa Maria Times. January 26, 2017. https://santamariatimes.com/news/local/cachuma-lake-among-the-last-of-states-reservoirs-in-exceptional-drought/article_e358ca8e-654d-5ff7-9b58-857914a4ccd4.html.\n",
    "\n",
    "The Santa Barbara Independent. \"Cachuma Fills and Flood Gates to Open.\" The Santa Barbara Independent, January 14, 2023. https://www.independent.com/2023/01/14/cachuma-fills-and-flood-gates-to-open/."
   ]
  }
 ],
 "metadata": {
  "kernelspec": {
   "display_name": "Anaconda 3 (EDS220)",
   "language": "python",
   "name": "eds220-env"
  },
  "language_info": {
   "codemirror_mode": {
    "name": "ipython",
    "version": 3
   },
   "file_extension": ".py",
   "mimetype": "text/x-python",
   "name": "python",
   "nbconvert_exporter": "python",
   "pygments_lexer": "ipython3",
   "version": "3.11.4"
  }
 },
 "nbformat": 4,
 "nbformat_minor": 5
}
